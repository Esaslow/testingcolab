{
  "nbformat": 4,
  "nbformat_minor": 0,
  "metadata": {
    "colab": {
      "name": "Introduction to introduction to Python",
      "version": "0.3.2",
      "provenance": [],
      "collapsed_sections": [],
      "include_colab_link": true
    },
    "kernelspec": {
      "name": "python3",
      "display_name": "Python 3"
    }
  },
  "cells": [
    {
      "cell_type": "markdown",
      "metadata": {
        "id": "view-in-github",
        "colab_type": "text"
      },
      "source": [
        "[View in Colaboratory](https://colab.research.google.com/github/Esaslow/testingcolab/blob/master/Introduction_to_introduction_to_Python.ipynb)"
      ]
    },
    {
      "metadata": {
        "id": "EGaF2GT4uTfu",
        "colab_type": "text"
      },
      "cell_type": "markdown",
      "source": [
        "# Introduction to introduction to Python\n",
        "\n",
        "This is an \"Google Colab\" notebook. It's very similar to Jupyter Notebook, which we'll use extensively in this class. Unlike in Jupyter notebooks, however, this is a shared document where everybody can see and make changes to the same document.\n",
        "\n",
        "The first few problems will get us acquainted with working together."
      ]
    },
    {
      "metadata": {
        "id": "lwe_hsV9ul8L",
        "colab_type": "text"
      },
      "cell_type": "markdown",
      "source": [
        "## Lesson 0.0: Hello World\n",
        "\n",
        "Everyone make their own cell, and print \"hello world\".\n",
        "\n",
        "1. Click on this cell. This cell will highlight.\n",
        "1. Click the \"+ CODE\" button in the header. This will create a cell in the next line.\n",
        "    * optional: keyboard shortcut: `CMD+M B`\n",
        "1. In this cell, enter:\n",
        "\n",
        "> ```python\n",
        "> # YOUR NAME HERE\n",
        "> print( \"Hello world!\" )\n",
        "> ```\n",
        "\n",
        "4. Click on the \"play\" button to the left of the cell.\n",
        "    * optional: keyboard shortcut: `SHIFT+ENTER`\n",
        "    \n",
        "-----------\n"
      ]
    },
    {
      "metadata": {
        "id": "MarImyVq77vl",
        "colab_type": "code",
        "colab": {
          "base_uri": "https://localhost:8080/",
          "height": 34
        },
        "outputId": "99dd3947-3e36-4d8f-8851-1e7c953e991b"
      },
      "cell_type": "code",
      "source": [
        "# Jessica\n",
        "print ( \"Hello world!\") "
      ],
      "execution_count": 1,
      "outputs": [
        {
          "output_type": "stream",
          "text": [
            "Hello world!\n"
          ],
          "name": "stdout"
        }
      ]
    },
    {
      "metadata": {
        "id": "QaeoZnsB78CY",
        "colab_type": "code",
        "colab": {
          "base_uri": "https://localhost:8080/",
          "height": 35
        },
        "outputId": "84b67ed1-05bd-4be9-a4e8-21e9574110c7"
      },
      "cell_type": "code",
      "source": [
        "# Pira\n",
        "print( \"Hello world!\" )\n"
      ],
      "execution_count": 4,
      "outputs": [
        {
          "output_type": "stream",
          "text": [
            "Hello world!\n"
          ],
          "name": "stdout"
        }
      ]
    },
    {
      "metadata": {
        "id": "QdDdShAe74eE",
        "colab_type": "code",
        "colab": {
          "base_uri": "https://localhost:8080/",
          "height": 34
        },
        "outputId": "b1fee4fd-d330-4f2d-f669-5d509dc2041c"
      },
      "cell_type": "code",
      "source": [
        "# Jenny \n",
        "print('Hello world!')"
      ],
      "execution_count": 6,
      "outputs": [
        {
          "output_type": "stream",
          "text": [
            "Hello world!\n"
          ],
          "name": "stdout"
        }
      ]
    },
    {
      "metadata": {
        "id": "GynyMJKF74iV",
        "colab_type": "code",
        "colab": {
          "base_uri": "https://localhost:8080/",
          "height": 35
        },
        "outputId": "227b0556-de8b-40a6-8c33-aa236efc9905"
      },
      "cell_type": "code",
      "source": [
        "# Elliott \n",
        "print('Elliot says: Hello World')"
      ],
      "execution_count": 5,
      "outputs": [
        {
          "output_type": "stream",
          "text": [
            "Elliot says: Hello World\n"
          ],
          "name": "stdout"
        }
      ]
    },
    {
      "metadata": {
        "id": "3aJKe9hv731-",
        "colab_type": "code",
        "colab": {}
      },
      "cell_type": "code",
      "source": [
        ""
      ],
      "execution_count": 0,
      "outputs": []
    },
    {
      "metadata": {
        "id": "Tmw5Ln_nvzZJ",
        "colab_type": "code",
        "colab": {
          "base_uri": "https://localhost:8080/",
          "height": 35
        },
        "outputId": "40ffce67-f975-45bd-c8c7-0f1aab63c9d6"
      },
      "cell_type": "code",
      "source": [
        "#brandon\n",
        "print( \"Hello world!\" )"
      ],
      "execution_count": 2,
      "outputs": [
        {
          "output_type": "stream",
          "text": [
            "Hello world!\n"
          ],
          "name": "stdout"
        }
      ]
    },
    {
      "metadata": {
        "id": "NCcCHHCzgSQX",
        "colab_type": "text"
      },
      "cell_type": "markdown",
      "source": [
        "### Note\n",
        "\n",
        "In Python, anything after the `#` sign is _not executed_. These are called \"comments\". In the above example, the line `# brandon` is ignored by the Python interpreter and plays no role in the computer program. It's just there as a note to humans reading the code."
      ]
    },
    {
      "metadata": {
        "id": "IYjGBq7z8iNF",
        "colab_type": "code",
        "colab": {}
      },
      "cell_type": "code",
      "source": [
        ""
      ],
      "execution_count": 0,
      "outputs": []
    },
    {
      "metadata": {
        "id": "_tExYlfHx_L1",
        "colab_type": "text"
      },
      "cell_type": "markdown",
      "source": [
        "## Lesson 0.1: Hello World, Simplified\n",
        "\n",
        "The last statement to evaluate in the cell is automatically printed. So, the `print` statement is redundant.\n",
        "\n",
        "1. Click on this cell. This cell will highlight.\n",
        "1. Click the \"+ CODE\" button in the header. This will create a cell in the next line.\n",
        "1. In this cell, enter:\n",
        "\n",
        "> ```python\n",
        "> # YOUR NAME HERE\n",
        "> \"Hello world!\"\n",
        "> ```\n",
        "\n",
        "4. Click on the \"play\" button to the left of the cell.\n",
        "\n",
        "----------"
      ]
    },
    {
      "metadata": {
        "id": "ztnyQja49IAZ",
        "colab_type": "code",
        "colab": {}
      },
      "cell_type": "code",
      "source": [
        "# Pira\n",
        "\"Hello, world!\""
      ],
      "execution_count": 0,
      "outputs": []
    },
    {
      "metadata": {
        "id": "tTZYabHS9Ds8",
        "colab_type": "code",
        "colab": {}
      },
      "cell_type": "code",
      "source": [
        "# Jess\n",
        "\"hello world\""
      ],
      "execution_count": 0,
      "outputs": []
    },
    {
      "metadata": {
        "id": "1TmStotK0HI6",
        "colab_type": "code",
        "colab": {
          "base_uri": "https://localhost:8080/",
          "height": 34
        },
        "outputId": "1db3f206-3989-479a-b0b6-9343b85e1c96"
      },
      "cell_type": "code",
      "source": [
        "# brandon\n",
        "\"Hello, world!\""
      ],
      "execution_count": 7,
      "outputs": [
        {
          "output_type": "execute_result",
          "data": {
            "text/plain": [
              "'Hello, world!'"
            ]
          },
          "metadata": {
            "tags": []
          },
          "execution_count": 7
        }
      ]
    },
    {
      "metadata": {
        "id": "BiiCa82v9D-e",
        "colab_type": "code",
        "colab": {}
      },
      "cell_type": "code",
      "source": [
        "# Jenny \n",
        "'Hello World!'"
      ],
      "execution_count": 0,
      "outputs": []
    },
    {
      "metadata": {
        "id": "bOIFe-YezZVG",
        "colab_type": "text"
      },
      "cell_type": "markdown",
      "source": [
        "## Lesson 0.2: More than text\n",
        "\n",
        "When a cell is executed, a text value of the result of the last line is always printed.\n",
        "\n",
        "1. Create a cell and enter this:\n",
        "\n",
        "> ```python\n",
        "> # YOUR NAME HERE\n",
        "> a = YOUR OWN NUMBER\n",
        "> a\n",
        "> ```\n",
        "\n",
        "2. Run it.\n",
        "\n",
        "_Technially_: The string result of `repr(LAST_EXPRESSION)` is printed  below a cell after it's executed.\n",
        "\n",
        "--------\n",
        "\n"
      ]
    },
    {
      "metadata": {
        "id": "YDYGLrWD1x-Q",
        "colab_type": "code",
        "colab": {
          "base_uri": "https://localhost:8080/",
          "height": 34
        },
        "outputId": "678404ed-a39a-4206-df97-0dcfe23a83ab"
      },
      "cell_type": "code",
      "source": [
        "# brandon\n",
        "a = 827\n",
        "a"
      ],
      "execution_count": 34,
      "outputs": [
        {
          "output_type": "execute_result",
          "data": {
            "text/plain": [
              "827"
            ]
          },
          "metadata": {
            "tags": []
          },
          "execution_count": 34
        }
      ]
    },
    {
      "metadata": {
        "id": "phfgt3sg3CwE",
        "colab_type": "text"
      },
      "cell_type": "markdown",
      "source": [
        "## Lesson 0.3: A shared workspace\n",
        "\n",
        "There is a code cell below this text cell. Everybody add a contribution, started with a comment with their name. **Do not** execute this cell. I'll execute it when you're all done."
      ]
    },
    {
      "metadata": {
        "id": "iCPQYUc53m3V",
        "colab_type": "code",
        "colab": {
          "base_uri": "https://localhost:8080/",
          "height": 34
        },
        "outputId": "7b5e26c9-28f9-4a7c-f5c9-f085e956bb37"
      },
      "cell_type": "code",
      "source": [
        "# brandon\n",
        "a = 12\n",
        "b = 45\n",
        "print( a / b )\n",
        "\n",
        "# another student\n",
        "class Bizbaz(object):\n",
        "  \"\"\"I'm showing off my advanced knowledge of Python.\"\"\"\n",
        "  \n",
        "  def __init__(self):\n",
        "    pass"
      ],
      "execution_count": 35,
      "outputs": [
        {
          "output_type": "stream",
          "text": [
            "0.26666666666666666\n"
          ],
          "name": "stdout"
        }
      ]
    },
    {
      "metadata": {
        "id": "kpCLa8_45EUx",
        "colab_type": "text"
      },
      "cell_type": "markdown",
      "source": [
        "## Lesson 0.4: A shared _namespace_\n",
        "\n",
        "All variables are shared across all users. If someone defines `x=12`, anyone else would be free to modify that same variable.\n",
        "\n",
        "In the next cell, in a python comment, say what you think would be the result of a code cell with a single line with the contents:\n",
        "\n",
        "```python\n",
        "a\n",
        "```"
      ]
    },
    {
      "metadata": {
        "id": "3rg2Cra95_gU",
        "colab_type": "code",
        "colab": {}
      },
      "cell_type": "code",
      "source": [
        "# brandon: I think it'll print a clown emoji"
      ],
      "execution_count": 0,
      "outputs": []
    },
    {
      "metadata": {
        "id": "cJ1o-qXb62MI",
        "colab_type": "text"
      },
      "cell_type": "markdown",
      "source": [
        "## Motivation: Programming Languages and Computation\n",
        "\n",
        "Today we'll be learning a programming language. But, briefly before we begin, what is a programming language?\n",
        "\n",
        "A programming langauge is a means of expressing the rules by which an output is computed. If this seems very broad, it is.\n",
        "\n",
        "Most programming langauges in modern practical use are **imperative** programming languages. These operate by specifying rules by which variables are accessed and manipulated. A programming langauge which can compute any computable result is called **Turing complete**. \n",
        "\n",
        "What is a \"computable result\"? It is any output that can be produced from an input by a defined process. This set - \"computable results\" - is very broad. For example:\n",
        "\n",
        "  * The product of the integers 3 and 95\n",
        "  * The product of every integer between 1 and 4236\n",
        "  * The fraction of households surveyed by the US census with a male householder.\n",
        "  * The total anticipated tax income of the US federal government in the upcoming year.\n",
        "  * The address of the apartment in San Francisco with the lowest per-square-foot rent.\n",
        "  * The text of Shakespeare's The Tempest, but converted into Pig Latin.\n",
        "  * The exact series of gimble and throttle settings for a rocket engine to place a satellite payload into geosynchronous orbit.\n",
        "  * The number of coats to make that maximize the profit at a coat factory.\n",
        "  * The way to turn an in-motion bicycle's handlebars to keep it traveling in a straight line without falling down.\n",
        "  * The chance that a given person will want to go on a date with another given person.\n",
        "  * The quickest route to the grocery store given current traffic.\n",
        "  * Whether or not a photograph contains a cat.\n",
        "  * The production quotas of every factory in a country such that the quality of life in that country is maximized.\n",
        "  \n",
        "  \n",
        "\n",
        "It is a stunning result of the academic field of computer science - with far-reaching implications in almost every human endeavor - that a Turing-complete langauge is relatively simple to specify. In its most basic form, all that an imperative language needs to be Turing-complete is:\n",
        "\n",
        "  1. The ability to read and write variables, and \n",
        "  1. Change its behavior depending on the value of a variable, (called \"branching\").\n",
        "  \n",
        "All programming languages are Turing-complete*. As a result, **all programming languages are equivalent** and **any programming language can compute any computable thing**.\n",
        "\n",
        "This is one of the most stunning things that humans have discovered to date. It has led single-handedly to the rise of the software industry as the a primary driver of economic growth in the United States. The usefulness of software, and by extension the usefulness of those who can write it, is so extraordinary that economic growth from the software industry has essentially capsized the real estate market in Seattle and San Francisco. The market cap of Google is about 11 million _per employee_, compared to about 180k/person at Ford. This is what software does.\n",
        "\n",
        "*This is by definition - you can only call something a \"programming langauge\" if it is Turing-complete. Sometimes things with formal structure but no branching logic - like HTML - are erroneously referred to as programming languages.\n"
      ]
    },
    {
      "metadata": {
        "id": "dYFVL0D-CmzE",
        "colab_type": "text"
      },
      "cell_type": "markdown",
      "source": [
        "So, like I said, every imperative programming language has two core abilities:\n",
        "\n",
        "  * reading/writing variables\n",
        "  * branching\n",
        "  \n",
        "Let's learn them, and then we'll learn how to combine them into algorithms."
      ]
    },
    {
      "metadata": {
        "id": "g_qjQzHW9NYH",
        "colab_type": "text"
      },
      "cell_type": "markdown",
      "source": [
        "## Variables\n",
        "\n",
        "### Creating variables\n",
        "\n",
        "A variable is a bucket that you put values in. You're probably familiar with variables from algebra, where a variable is a bucket you put a number in.\n",
        "\n",
        "$$ x = 12.5 $$\n",
        "\n",
        "In Python, you can put _different kinds of things_ into a variable. For example, the following is valid Python code.\n",
        "\n",
        "```python\n",
        "a = 1.4 \n",
        "b = 34\n",
        "c = \"twas brillig and the slithy toves\" \n",
        "d = u\"你可能知道，我實際上並不會說中文。\"\n",
        "e = [1,2,3,4.5,\"abraham lincoln\"]\n",
        "```\n",
        "\n",
        "The way to create a variable in Python is to assign a value to it. To do that, you use the assignment operator, written `'='`. When spoken it is pronounced \"takes\", and **not** \"equals\". For example the line\n",
        "\n",
        "```python\n",
        "a = 1.4\n",
        "```\n",
        "\n",
        "is pronounced \"a takes the value 1.4\" or simply \"a takes 1.4\".\n",
        "\n",
        "In your own code cell, assign a number to a new variable."
      ]
    },
    {
      "metadata": {
        "id": "EYqxtYKTjlix",
        "colab_type": "text"
      },
      "cell_type": "markdown",
      "source": [
        "### Variables types\n",
        "\n",
        "UNDER CONSTRUCTION\n",
        "\n",
        "Values have types. For example `1` is an integer, `1.56` is a floating-point number (or \"float\"), and `\"bizbaz\"` is a string of characters (or just \"string\").\n",
        "\n",
        "Variables also have types - they have the type of the value that is assigned to them.\n",
        "\n",
        "Variables have types. For example, the variable `a` in the following line\n",
        "\n",
        "```python\n",
        "a = 4\n",
        "```\n",
        "\n",
        "was assigned a whole number, and therefore has taken on the type \"integer\".\n",
        "\n",
        "In this example\n",
        "```\n",
        "b = 1.4\n",
        "c = \"some words\"\n",
        "```\n",
        "\n",
        "`b` is now an instance of a floating-point number (formally: \"float\"), and `c` is a list of chacters (\"string\")."
      ]
    },
    {
      "metadata": {
        "id": "__O_gAfPqYe9",
        "colab_type": "code",
        "colab": {}
      },
      "cell_type": "code",
      "source": [
        ""
      ],
      "execution_count": 0,
      "outputs": []
    }
  ]
}