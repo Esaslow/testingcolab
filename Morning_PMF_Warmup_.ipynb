{
  "nbformat": 4,
  "nbformat_minor": 0,
  "metadata": {
    "colab": {
      "name": "Morning PMF Warmup .ipynb",
      "version": "0.3.2",
      "provenance": [],
      "toc_visible": true,
      "include_colab_link": true
    },
    "kernelspec": {
      "name": "python3",
      "display_name": "Python 3"
    }
  },
  "cells": [
    {
      "cell_type": "markdown",
      "metadata": {
        "id": "view-in-github",
        "colab_type": "text"
      },
      "source": [
        "[View in Colaboratory](https://colab.research.google.com/github/Esaslow/testingcolab/blob/master/Morning_PMF_Warmup_.ipynb)"
      ]
    },
    {
      "metadata": {
        "id": "LYYJKQ6zK9_v",
        "colab_type": "text"
      },
      "cell_type": "markdown",
      "source": [
        "### Instructions\n",
        "\n",
        "1. Copy the notebook for your group\n",
        "2. Post link to your groups notebook in a **text** cell below\n",
        "3. After you have completed the warmup (or are stuck, post you solutions in a code cell below)\n",
        "\n",
        "**Don't forget to add a group name!!**"
      ]
    },
    {
      "metadata": {
        "id": "rMRdtZDvLkDq",
        "colab_type": "text"
      },
      "cell_type": "markdown",
      "source": [
        "## Discrete Probability Class\n",
        "\n",
        "You are going to build a class that represents discrete probability distributions.\n",
        "\n",
        "1. Create a module called `my_stats`.\n",
        "\n",
        "2. Write a generic `PMF` class, that represents a probability mass function. It will need to store:\n",
        "  * values\n",
        "  * associated probabilities\n",
        "\n",
        "3. Initialize each PMF with a dictionary representing a mapping from value => probability. If the PMF is initialized without an argument use a reasonable default value.\n",
        "\n",
        "4. You should allow querying of your PMF by value and return a probability. Write a `prob()` method that takes an input value as an argument, and returns the probability of getting that value.\n",
        "\n",
        "5. Also allow for the case of updating a value after a PMF object has already been created. Create a `set()` method on your class that takes a key => value pair to update.\n",
        "\n",
        "6. The last thing your PMF class should do is print its distribution. Create a method `print_pmf()` that outputs the distribution as a list of tuples.\n",
        "\n",
        "**Note: The PMF should always be normalized, i.e. the sum of the probabilities should be 1.**\n",
        "\n",
        "### Example Class Usage\n",
        "\n",
        "```python\n",
        "from my_stats import PMF\n",
        "\n",
        "die = PMF({\"1\": 1./6, \"2\": 1./6, \"3\": 1./6, \"4\": 1./6, \"5\": 1./6, \"6\": 1./6 })\n",
        "\n",
        "die.prob(\"3\") #=> 0.166\n",
        "\n",
        "die.print_pmf() #=> [(\"1\", 0.166), (\"2\", 0.166), (\"3\", 0.166), (\"4\", 0.166), (\"5\", 0.166), (\"6\", 0.166)]\n",
        "\n",
        "# weight the die, be sure to renormalize, so that the probability of the updated side\n",
        "# and the probabilties of all the other sides sum to 1\n",
        "die.set((\"2\", 1/2))\n",
        "\n",
        "die.print_pmf() #=> [(\"1\", 0.1), (\"2\", 0.5), (\"3\", 0.1), (\"4\", 0.1), (\"5\", 0.1), (\"6\", 0.1)]\n",
        "```"
      ]
    },
    {
      "metadata": {
        "id": "IzfHq9DjLmLw",
        "colab_type": "code",
        "colab": {}
      },
      "cell_type": "code",
      "source": [
        ""
      ],
      "execution_count": 0,
      "outputs": []
    }
  ]
}